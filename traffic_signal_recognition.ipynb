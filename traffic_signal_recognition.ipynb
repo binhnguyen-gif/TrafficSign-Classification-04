{
 "cells": [
  {
   "cell_type": "code",
   "execution_count": 1,
   "metadata": {
    "scrolled": true
   },
   "outputs": [
    {
     "name": "stdout",
     "output_type": "stream",
     "text": [
      "Requirement already satisfied: opencv-python in c:\\users\\wind\\anaconda3\\envs\\tf\\lib\\site-packages (4.5.5.62)\n",
      "Requirement already satisfied: numpy>=1.17.3 in c:\\users\\wind\\anaconda3\\envs\\tf\\lib\\site-packages (from opencv-python) (1.20.2)\n",
      "Note: you may need to restart the kernel to use updated packages.\n"
     ]
    }
   ],
   "source": [
    "pip install opencv-python"
   ]
  },
  {
   "cell_type": "code",
   "execution_count": 2,
   "metadata": {},
   "outputs": [
    {
     "name": "stdout",
     "output_type": "stream",
     "text": [
      "Requirement already satisfied: scikit-learn in c:\\users\\wind\\anaconda3\\envs\\tf\\lib\\site-packages (1.0.2)\n",
      "Requirement already satisfied: scipy>=1.1.0 in c:\\users\\wind\\anaconda3\\envs\\tf\\lib\\site-packages (from scikit-learn) (1.6.2)\n",
      "Requirement already satisfied: threadpoolctl>=2.0.0 in c:\\users\\wind\\anaconda3\\envs\\tf\\lib\\site-packages (from scikit-learn) (3.0.0)\n",
      "Requirement already satisfied: joblib>=0.11 in c:\\users\\wind\\anaconda3\\envs\\tf\\lib\\site-packages (from scikit-learn) (1.1.0)\n",
      "Requirement already satisfied: numpy>=1.14.6 in c:\\users\\wind\\anaconda3\\envs\\tf\\lib\\site-packages (from scikit-learn) (1.20.2)\n",
      "Note: you may need to restart the kernel to use updated packages.\n"
     ]
    }
   ],
   "source": [
    "pip install scikit-learn"
   ]
  },
  {
   "cell_type": "code",
   "execution_count": 3,
   "metadata": {},
   "outputs": [],
   "source": [
    "import numpy as np \n",
    "import pandas as pd \n",
    "import matplotlib.pyplot as plt\n",
    "import cv2\n",
    "import tensorflow as tf\n",
    "from PIL import Image\n",
    "import os\n",
    "os.chdir('C:/Users/Wind/TrafficSign-Classification-CNN/')\n",
    "from sklearn.model_selection import train_test_split\n",
    "from keras.utils import to_categorical\n",
    "from keras.models import Sequential, load_model\n",
    "from keras.layers import Conv2D, MaxPool2D, Dense, Flatten, Dropout"
   ]
  },
  {
   "cell_type": "code",
   "execution_count": 4,
   "metadata": {},
   "outputs": [],
   "source": [
    "data = []\n",
    "labels = []\n",
    "# 43 classes\n",
    "classes = 43\n",
    "cur_path = os.getcwd()"
   ]
  },
  {
   "cell_type": "code",
   "execution_count": 5,
   "metadata": {},
   "outputs": [
    {
     "data": {
      "text/plain": [
       "'C:\\\\Users\\\\Wind\\\\TrafficSign-Classification-CNN'"
      ]
     },
     "execution_count": 5,
     "metadata": {},
     "output_type": "execute_result"
    }
   ],
   "source": [
    "cur_path"
   ]
  },
  {
   "cell_type": "code",
   "execution_count": 6,
   "metadata": {},
   "outputs": [],
   "source": [
    "# Xử lý ảnh trước khi training\n",
    "for i in range(classes):\n",
    "    path = os.path.join(cur_path,'train',str(i))\n",
    "    images = os.listdir(path)\n",
    "    for a in images:\n",
    "        try:\n",
    "            image = Image.open(path + '\\\\'+ a)\n",
    "            image = image.resize((30,30))\n",
    "            image = np.array(image)\n",
    "            data.append(image)\n",
    "            labels.append(i)\n",
    "        except Exception as e:\n",
    "            print(e)"
   ]
  },
  {
   "cell_type": "code",
   "execution_count": 7,
   "metadata": {},
   "outputs": [],
   "source": [
    "#covert list - array\n",
    "data = np.array(data)\n",
    "labels = np.array(labels)"
   ]
  },
  {
   "cell_type": "code",
   "execution_count": 8,
   "metadata": {},
   "outputs": [],
   "source": [
    "np.save('./training/data',data)\n",
    "np.save('./training/target',labels)"
   ]
  },
  {
   "cell_type": "code",
   "execution_count": 9,
   "metadata": {},
   "outputs": [],
   "source": [
    "# load model\n",
    "data=np.load('./training/data.npy')\n",
    "labels=np.load('./training/target.npy')"
   ]
  },
  {
   "cell_type": "code",
   "execution_count": 10,
   "metadata": {},
   "outputs": [
    {
     "name": "stdout",
     "output_type": "stream",
     "text": [
      "(39209, 30, 30, 3) (39209,)\n"
     ]
    }
   ],
   "source": [
    "print(data.shape, labels.shape)"
   ]
  },
  {
   "cell_type": "code",
   "execution_count": 11,
   "metadata": {},
   "outputs": [],
   "source": [
    "X_train, X_test, y_train, y_test = train_test_split(data, labels, test_size=0.2, random_state=0)"
   ]
  },
  {
   "cell_type": "code",
   "execution_count": 12,
   "metadata": {},
   "outputs": [
    {
     "name": "stdout",
     "output_type": "stream",
     "text": [
      "(31367, 30, 30, 3) (7842, 30, 30, 3) (31367,) (7842,)\n"
     ]
    }
   ],
   "source": [
    "print(X_train.shape, X_test.shape, y_train.shape, y_test.shape)"
   ]
  },
  {
   "cell_type": "code",
   "execution_count": 13,
   "metadata": {},
   "outputs": [],
   "source": [
    "#Convert labels to onehot encoding\n",
    "y_train = to_categorical(y_train, 43)\n",
    "y_test = to_categorical(y_test, 43)"
   ]
  },
  {
   "cell_type": "code",
   "execution_count": 14,
   "metadata": {},
   "outputs": [],
   "source": [
    "#Build model\n",
    "model = Sequential()\n",
    "model.add(Conv2D(filters=32, kernel_size=(5,5), activation='relu', input_shape=X_train.shape[1:]))\n",
    "model.add(Conv2D(filters=32, kernel_size=(5,5), activation='relu'))\n",
    "model.add(MaxPool2D(pool_size=(2, 2)))\n",
    "model.add(Dropout(rate=0.25))\n",
    "model.add(Conv2D(filters=64, kernel_size=(3, 3), activation='relu'))\n",
    "model.add(Conv2D(filters=64, kernel_size=(3, 3), activation='relu'))\n",
    "model.add(MaxPool2D(pool_size=(2, 2)))\n",
    "model.add(Dropout(rate=0.25))\n",
    "model.add(Flatten())\n",
    "model.add(Dense(256, activation='relu'))\n",
    "model.add(Dropout(rate=0.5))\n",
    "model.add(Dense(43, activation='softmax'))"
   ]
  },
  {
   "cell_type": "code",
   "execution_count": 15,
   "metadata": {},
   "outputs": [],
   "source": [
    "#Compilation of the model\n",
    "model.compile(loss='categorical_crossentropy', optimizer='adam', metrics=['accuracy'])"
   ]
  },
  {
   "cell_type": "code",
   "execution_count": 16,
   "metadata": {},
   "outputs": [
    {
     "name": "stdout",
     "output_type": "stream",
     "text": [
      "Epoch 1/20\n",
      "981/981 [==============================] - 27s 27ms/step - loss: 1.8884 - accuracy: 0.5059 - val_loss: 0.5921 - val_accuracy: 0.8409\n",
      "Epoch 2/20\n",
      "981/981 [==============================] - 27s 27ms/step - loss: 0.7623 - accuracy: 0.7748 - val_loss: 0.2501 - val_accuracy: 0.9311\n",
      "Epoch 3/20\n",
      "981/981 [==============================] - 25s 25ms/step - loss: 0.4472 - accuracy: 0.8667 - val_loss: 0.1593 - val_accuracy: 0.9551\n",
      "Epoch 4/20\n",
      "981/981 [==============================] - 26s 26ms/step - loss: 0.3378 - accuracy: 0.9004 - val_loss: 0.1204 - val_accuracy: 0.9684\n",
      "Epoch 5/20\n",
      "981/981 [==============================] - 25s 25ms/step - loss: 0.2835 - accuracy: 0.9168 - val_loss: 0.1006 - val_accuracy: 0.9690\n",
      "Epoch 6/20\n",
      "981/981 [==============================] - 24s 25ms/step - loss: 0.2866 - accuracy: 0.9179 - val_loss: 0.0805 - val_accuracy: 0.9763\n",
      "Epoch 7/20\n",
      "981/981 [==============================] - 24s 25ms/step - loss: 0.2462 - accuracy: 0.9298 - val_loss: 0.0863 - val_accuracy: 0.9776\n",
      "Epoch 8/20\n",
      "981/981 [==============================] - 24s 25ms/step - loss: 0.2309 - accuracy: 0.9355 - val_loss: 0.0639 - val_accuracy: 0.9821\n",
      "Epoch 9/20\n",
      "981/981 [==============================] - 25s 25ms/step - loss: 0.2100 - accuracy: 0.9427 - val_loss: 0.0575 - val_accuracy: 0.9853\n",
      "Epoch 10/20\n",
      "981/981 [==============================] - 25s 25ms/step - loss: 0.2130 - accuracy: 0.9403 - val_loss: 0.0753 - val_accuracy: 0.9804\n",
      "Epoch 11/20\n",
      "981/981 [==============================] - 24s 25ms/step - loss: 0.2317 - accuracy: 0.9396 - val_loss: 0.1689 - val_accuracy: 0.9504\n",
      "Epoch 12/20\n",
      "981/981 [==============================] - 25s 25ms/step - loss: 0.1993 - accuracy: 0.9456 - val_loss: 0.0787 - val_accuracy: 0.9800\n",
      "Epoch 13/20\n",
      "981/981 [==============================] - 25s 26ms/step - loss: 0.2398 - accuracy: 0.9381 - val_loss: 0.0690 - val_accuracy: 0.9824\n",
      "Epoch 14/20\n",
      "981/981 [==============================] - 25s 26ms/step - loss: 0.2035 - accuracy: 0.9480 - val_loss: 0.0817 - val_accuracy: 0.9777\n",
      "Epoch 15/20\n",
      "981/981 [==============================] - 25s 25ms/step - loss: 0.1947 - accuracy: 0.9491 - val_loss: 0.0698 - val_accuracy: 0.9821\n",
      "Epoch 16/20\n",
      "981/981 [==============================] - 25s 25ms/step - loss: 0.2291 - accuracy: 0.9435 - val_loss: 0.0882 - val_accuracy: 0.9763\n",
      "Epoch 17/20\n",
      "981/981 [==============================] - 25s 26ms/step - loss: 0.2173 - accuracy: 0.9451 - val_loss: 0.0576 - val_accuracy: 0.9869\n",
      "Epoch 18/20\n",
      "981/981 [==============================] - 25s 26ms/step - loss: 0.1977 - accuracy: 0.9494 - val_loss: 0.0879 - val_accuracy: 0.9770\n",
      "Epoch 19/20\n",
      "981/981 [==============================] - 25s 25ms/step - loss: 0.2361 - accuracy: 0.9431 - val_loss: 0.0590 - val_accuracy: 0.9853\n",
      "Epoch 20/20\n",
      "981/981 [==============================] - 26s 26ms/step - loss: 0.2059 - accuracy: 0.9486 - val_loss: 0.0448 - val_accuracy: 0.9874\n"
     ]
    }
   ],
   "source": [
    "epochs = 20\n",
    "history = model.fit(X_train, y_train, batch_size=32, epochs=epochs, validation_data=(X_test, y_test))"
   ]
  },
  {
   "cell_type": "code",
   "execution_count": 17,
   "metadata": {},
   "outputs": [
    {
     "data": {
      "image/png": "[encoded data removed]",
      "text/plain": [
       "<Figure size 432x288 with 1 Axes>"
      ]
     },
     "metadata": {
      "needs_background": "light"
     },
     "output_type": "display_data"
    }
   ],
   "source": [
    "# accuracy \n",
    "plt.figure(0)\n",
    "plt.plot(history.history['accuracy'], label='training accuracy')\n",
    "plt.plot(history.history['val_accuracy'], label='val accuracy')\n",
    "plt.title('Accuracy')\n",
    "plt.xlabel('epochs')\n",
    "plt.ylabel('accuracy')\n",
    "plt.legend()\n",
    "plt.show()"
   ]
  },
  {
   "cell_type": "code",
   "execution_count": 18,
   "metadata": {},
   "outputs": [
    {
     "data": {
      "image/png": "[encoded data removed]",
      "text/plain": [
       "<Figure size 432x288 with 1 Axes>"
      ]
     },
     "metadata": {
      "needs_background": "light"
     },
     "output_type": "display_data"
    }
   ],
   "source": [
    "# Loss\n",
    "plt.plot(history.history['loss'], label='training loss')\n",
    "plt.plot(history.history['val_loss'], label='val loss')\n",
    "plt.title('Loss')\n",
    "plt.xlabel('epochs')\n",
    "plt.ylabel('loss')\n",
    "plt.legend()\n",
    "plt.show()"
   ]
  },
  {
   "cell_type": "code",
   "execution_count": 19,
   "metadata": {},
   "outputs": [],
   "source": [
    "#Kiểm tra với data test\n",
    "def testing(testcsv):\n",
    "    y_test = pd.read_csv(testcsv)\n",
    "    label = y_test[\"ClassId\"].values\n",
    "    imgs = y_test[\"Path\"].values\n",
    "    data=[]\n",
    "    for img in imgs:\n",
    "        image = Image.open(img)\n",
    "        image = image.resize((30,30))\n",
    "        data.append(np.array(image))\n",
    "    X_test=np.array(data)\n",
    "    return X_test,label"
   ]
  },
  {
   "cell_type": "code",
   "execution_count": 20,
   "metadata": {},
   "outputs": [],
   "source": [
    "X_test, label = testing('Test.csv')"
   ]
  },
  {
   "cell_type": "code",
   "execution_count": 21,
   "metadata": {},
   "outputs": [
    {
     "name": "stderr",
     "output_type": "stream",
     "text": [
      "C:\\Users\\Wind\\Anaconda3\\envs\\tf\\lib\\site-packages\\tensorflow\\python\\keras\\engine\\sequential.py:455: UserWarning: `model.predict_classes()` is deprecated and will be removed after 2021-01-01. Please use instead:* `np.argmax(model.predict(x), axis=-1)`,   if your model does multi-class classification   (e.g. if it uses a `softmax` last-layer activation).* `(model.predict(x) > 0.5).astype(\"int32\")`,   if your model does binary classification   (e.g. if it uses a `sigmoid` last-layer activation).\n",
      "  warnings.warn('`model.predict_classes()` is deprecated and '\n"
     ]
    },
    {
     "data": {
      "text/plain": [
       "array([16,  1, 38, ...,  5,  7, 10], dtype=int64)"
      ]
     },
     "execution_count": 21,
     "metadata": {},
     "output_type": "execute_result"
    }
   ],
   "source": [
    "Y_pred = model.predict_classes(X_test)\n",
    "Y_pred"
   ]
  },
  {
   "cell_type": "code",
   "execution_count": 22,
   "metadata": {},
   "outputs": [
    {
     "name": "stdout",
     "output_type": "stream",
     "text": [
      "0.9619952494061758\n"
     ]
    }
   ],
   "source": [
    "#Đo độ chính xác của model\n",
    "from sklearn.metrics import accuracy_score\n",
    "print(accuracy_score(label, Y_pred))"
   ]
  },
  {
   "cell_type": "code",
   "execution_count": 23,
   "metadata": {},
   "outputs": [],
   "source": [
    "#lưu model\n",
    "model.save(\"./training/TSR.h5\")"
   ]
  },
  {
   "cell_type": "code",
   "execution_count": 1,
   "metadata": {},
   "outputs": [],
   "source": [
    "#load model\n",
    "import os\n",
    "os.chdir(r'C:/Users/Wind/TrafficSign-Classification-CNN')\n",
    "from keras.models import load_model\n",
    "model = load_model('./training/TSR.h5')"
   ]
  },
  {
   "cell_type": "code",
   "execution_count": 2,
   "metadata": {},
   "outputs": [],
   "source": [
    "# Classes of trafic signs\n",
    "classes = { 0 : 'Giới hạn tốc độ (20km / h)' , \n",
    "            1 : 'Giới hạn tốc độ (30km / h)' ,\n",
    "            2 : 'Giới hạn tốc độ (50km / h)' ,\n",
    "            3 : 'Giới hạn tốc độ (60km / h)' ,\n",
    "            4 : 'Giới hạn tốc độ (70km / h)' ,\n",
    "            5 : 'Giới hạn tốc độ (80km / h)' ,\n",
    "            6 : 'Hết tốc độ giới hạn (80km / h)' ,\n",
    "            7 : 'Giới hạn tốc độ (100km / h)' ,\n",
    "            8 : 'Giới hạn tốc độ (120km / h)' ,\n",
    "            9 : 'Không vượt qua' ,\n",
    "            10 : 'Không vượt quá 3,5 tấn' ,\n",
    "            11 : 'Quyền ưu tiên tại giao lộ' ,\n",
    "            12 : 'Đường ưu tiên' ,\n",
    "            13 : 'Năng suất' ,\n",
    "            14 : 'Dừng lại' ,\n",
    "            15 : 'Không có xe cộ' ,\n",
    "            16 : 'Veh> 3,5 tấn bị cấm' ,\n",
    "            17 : 'Không vào' ,\n",
    "            18 : 'Thận trọng chung' ,\n",
    "            19 : 'Đường cong nguy hiểm sang trái' ,\n",
    "            20 : 'Đường cong nguy hiểm bên phải' ,\n",
    "            21 : 'Đường cong kép' ,\n",
    "            22 : 'Con đường gập ghềnh' ,\n",
    "            23 : 'Đường trơn trượt' ,\n",
    "            24 : 'Đường thu hẹp bên phải' ,\n",
    "            25 : 'Làm đường' ,\n",
    "            26 : 'Tín hiệu giao thông' ,\n",
    "            27 : 'Người đi bộ' ,\n",
    "            28 : 'Trẻ em băng qua đường' ,\n",
    "            29 : 'Xe đạp băng qua đường' ,\n",
    "            30 : 'Cẩn thận với băng / tuyết' ,\n",
    "            31 : 'Động vật hoang dã băng qua' ,\n",
    "            32 : 'Tốc độ cuối + giới hạn vượt qua' ,\n",
    "            33 : 'Rẽ phải về phía trước' ,\n",
    "            34 : 'Rẽ trái phía trước' ,\n",
    "            35 : 'Chỉ phía trước' ,\n",
    "            36 : 'Đi thẳng hoặc sang phải' ,\n",
    "            37 : 'Đi thẳng hoặc sang trái' ,\n",
    "            38 : 'Đi bên phải' ,\n",
    "            39 : 'Đi bên trái' ,\n",
    "            40 : 'Bắt buộc đi đường vòng' ,\n",
    "            41 : 'Kết thúc không có vượt qua' ,\n",
    "            42 : 'Trọng tải không quá 3,5 tấn' } "
   ]
  },
  {
   "cell_type": "code",
   "execution_count": 3,
   "metadata": {},
   "outputs": [],
   "source": [
    "from PIL import Image\n",
    "import numpy as np\n",
    "import matplotlib.pyplot as plt\n",
    "def test_on_img(img):\n",
    "    data=[]\n",
    "    image = Image.open(img)\n",
    "    image = image.resize((30,30))\n",
    "    data.append(np.array(image))\n",
    "    X_test=np.array(data)\n",
    "    Y_pred = model.predict_classes(X_test)\n",
    "    return image,Y_pred"
   ]
  },
  {
   "cell_type": "code",
   "execution_count": 4,
   "metadata": {},
   "outputs": [
    {
     "name": "stderr",
     "output_type": "stream",
     "text": [
      "C:\\Users\\Wind\\Anaconda3\\envs\\tf\\lib\\site-packages\\tensorflow\\python\\keras\\engine\\sequential.py:455: UserWarning: `model.predict_classes()` is deprecated and will be removed after 2021-01-01. Please use instead:* `np.argmax(model.predict(x), axis=-1)`,   if your model does multi-class classification   (e.g. if it uses a `softmax` last-layer activation).* `(model.predict(x) > 0.5).astype(\"int32\")`,   if your model does binary classification   (e.g. if it uses a `sigmoid` last-layer activation).\n",
      "  warnings.warn('`model.predict_classes()` is deprecated and '\n"
     ]
    },
    {
     "name": "stdout",
     "output_type": "stream",
     "text": [
      "Biển báo giao thông được dự đoán là:  Giới hạn tốc độ (50km / h)\n"
     ]
    },
    {
     "data": {
      "image/png": "[encoded data removed]",
      "text/plain": [
       "<Figure size 432x288 with 1 Axes>"
      ]
     },
     "metadata": {
      "needs_background": "light"
     },
     "output_type": "display_data"
    }
   ],
   "source": [
    "plot,prediction = test_on_img(r'C:\\Users\\Wind\\TrafficSign-Classification-CNN\\Test\\00034.png')\n",
    "s = [str(i) for i in prediction] \n",
    "a = int(\"\".join(s)) \n",
    "print(\"Biển báo giao thông được dự đoán là: \", classes[a])\n",
    "plt.imshow(plot)\n",
    "plt.show()"
   ]
  },
  {
   "cell_type": "code",
   "execution_count": null,
   "metadata": {},
   "outputs": [],
   "source": []
  },
  {
   "cell_type": "code",
   "execution_count": null,
   "metadata": {},
   "outputs": [],
   "source": []
  }
 ],
 "metadata": {
  "kernelspec": {
   "display_name": "Python 3",
   "language": "python",
   "name": "python3"
  },
  "language_info": {
   "codemirror_mode": {
    "name": "ipython",
    "version": 3
   },
   "file_extension": ".py",
   "mimetype": "text/x-python",
   "name": "python",
   "nbconvert_exporter": "python",
   "pygments_lexer": "ipython3",
   "version": "3.9.5"
  }
 },
 "nbformat": 4,
 "nbformat_minor": 4
}
